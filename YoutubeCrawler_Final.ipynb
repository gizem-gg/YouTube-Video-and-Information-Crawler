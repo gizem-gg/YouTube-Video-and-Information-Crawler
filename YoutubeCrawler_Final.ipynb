{
 "cells": [
  {
   "cell_type": "code",
   "execution_count": null,
   "id": "0f6ee90f",
   "metadata": {
    "gradient": {
     "editing": false,
     "execution_count": 1,
     "id": "194a99dd",
     "kernelId": ""
    }
   },
   "outputs": [],
   "source": [
    "!pip install google-api-python-client"
   ]
  },
  {
   "cell_type": "code",
   "execution_count": null,
   "id": "7f0f10fb",
   "metadata": {
    "gradient": {
     "editing": false,
     "execution_count": 3,
     "id": "0d5b48b6",
     "kernelId": ""
    }
   },
   "outputs": [],
   "source": [
    "!pip install -r \"requirements.txt\""
   ]
  },
  {
   "cell_type": "code",
   "execution_count": 3,
   "id": "0c9383ab",
   "metadata": {},
   "outputs": [],
   "source": [
    "def parse_JSON(response):\n",
    "    df_videos = pd.json_normalize(response['items'])\n",
    "    return df_videos"
   ]
  },
  {
   "cell_type": "code",
   "execution_count": 4,
   "id": "f6f43c32",
   "metadata": {},
   "outputs": [],
   "source": [
    "def crawl_videos_for_all_queries_infield(field_file_name):\n",
    "    try:\n",
    "        f = open(field_file_name, 'r')\n",
    "    except IOError:\n",
    "        print(\"The file could not be opened!\")\n",
    "    curr_line = f.readline()\n",
    "    curr_line = curr_line.rstrip('\\n')\n",
    "    while True:\n",
    "        try:\n",
    "            if curr_line == \"******\":\n",
    "                print(curr_line)\n",
    "                curr_line = f.readline()\n",
    "                curr_line = curr_line.rstrip('\\n')\n",
    "                print(\"Crawling the videos for the area of \" +  curr_line + \" started!\")\n",
    "                curr_line = f.readline()\n",
    "                curr_line = curr_line.rstrip('\\n')\n",
    "                if curr_line == \"******\":\n",
    "                    curr_line = f.readline()\n",
    "                    curr_line = curr_line.rstrip('\\n')\n",
    "                    while curr_line != \"******\":\n",
    "                        crawl_videos_for_a_query(curr_line)\n",
    "                        curr_line = f.readline()\n",
    "                        curr_line = curr_line.rstrip('\\n')\n",
    "                    \n",
    "                    print(\"Crawling the videos for the area of \" +  curr_line + \" completed!\")\n",
    "            if len(curr_line) == 0:\n",
    "                print(\"EOF!\")\n",
    "                break\n",
    "        except ValueError:\n",
    "            print(\"The line could not be read!\")\n",
    "    \n",
    "    with(\"STEM_Queries.txt\") as f:\n",
    "        lines = f.readlines()\n",
    "    f.close()\n",
    "    \n",
    "    "
   ]
  },
  {
   "cell_type": "code",
   "execution_count": 5,
   "id": "076be33a",
   "metadata": {},
   "outputs": [],
   "source": [
    "def crawl_videos_for_a_query(current_query):\n",
    "    current_query.rstrip('\\n')\n",
    "    \n",
    "    count = 4 #200 queries per query\n",
    "    next_page_token = \"\"\n",
    "    query_file = current_query + \"_videos.tsv\"\n",
    "    \n",
    "    print(\"Crawling the videos for the query \" + current_query + \" has been started!\")\n",
    "    while count != 0:\n",
    "        response = make_API_request(current_query, next_page_token)\n",
    "        df_response_videos = parse_JSON(response)\n",
    "        \n",
    "        if count == 4:\n",
    "            df_response_videos.to_csv(query_file, sep='\\t')\n",
    "        else:\n",
    "            with open(query_file, 'a') as f:\n",
    "                df_response_videos.to_csv(f, header=False, sep='\\t')\n",
    "\n",
    "        if 'nextPageToken' in response:\n",
    "            next_page_token = response['nextPageToken']\n",
    "            \n",
    "            print(\"Next 50 videos\")\n",
    "            count -= 1\n",
    "        else:\n",
    "            break\n",
    "        \n",
    "    print(\"Crawling the videos for the query \" + current_query + \" has been completed!\")"
   ]
  },
  {
   "cell_type": "code",
   "execution_count": 6,
   "id": "1cc5c180",
   "metadata": {
    "gradient": {
     "editing": false,
     "execution_count": 101,
     "id": "70ff3cb8",
     "kernelId": ""
    }
   },
   "outputs": [],
   "source": [
    "import googleapiclient.discovery\n",
    "import pandas as pd\n",
    "\n",
    "def make_API_request(curr_q, next_page_token):\n",
    "    # API information\n",
    "    api_service_name = \"youtube\"\n",
    "    api_version = \"v3\"\n",
    "    my_API_Key = \"\"\n",
    "    \n",
    "    youtube = googleapiclient.discovery.build(api_service_name, api_version, developerKey = my_API_Key)\n",
    "    # 'request' variable is the only thing you must change\n",
    "    # depending on the resource and method you need to use\n",
    "    # in your query\n",
    "    request = youtube.search().list(part = \"snippet\", maxResults = 50, q = curr_q, type = \"video\", regionCode = \"UK\", pageToken = next_page_token)\n",
    "    # Query execution\n",
    "    response = request.execute()\n",
    "    # Print the results\n",
    "    return response"
   ]
  },
  {
   "cell_type": "code",
   "execution_count": null,
   "id": "05e76762",
   "metadata": {},
   "outputs": [],
   "source": [
    "field_file_name = \"NONSTEMQueries_2.txt\"\n",
    "crawl_videos_for_all_queries_infield(field_file_name)"
   ]
  }
 ],
 "metadata": {
  "kernelspec": {
   "display_name": "Python 3 (ipykernel)",
   "language": "python",
   "name": "python3"
  },
  "language_info": {
   "codemirror_mode": {
    "name": "ipython",
    "version": 3
   },
   "file_extension": ".py",
   "mimetype": "text/x-python",
   "name": "python",
   "nbconvert_exporter": "python",
   "pygments_lexer": "ipython3",
   "version": "3.8.12"
  }
 },
 "nbformat": 4,
 "nbformat_minor": 5
}
